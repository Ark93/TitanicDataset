{
 "cells": [
  {
   "cell_type": "markdown",
   "metadata": {},
   "source": [
    "This is a Python Notebook for  the Titanic Survival Challenge were the objective will not be only to develop a model, will also be analyze the features and compare a variety of models that can help to solve this challenge.\n",
    "\n",
    "This notebook will be divided on the next sections:\n",
    "\n",
    " 1. Intro \n",
    " 2. Data cleaning and Transformation\n",
    " 3. Data Exploration \n",
    " 4. Data Modeling with\n",
    "     4.1 Decision Tree Model\n",
    "     4.2 Logistic Regression\n",
    "     4.3 Support Vector Machine.\n",
    " 5. Comparation\n",
    " 6. Conclusion\n",
    "\n",
    "let's take on count that the predictive models might need different preprocessing steps, so I will use different dataframes if needed"
   ]
  },
  {
   "cell_type": "code",
   "execution_count": 2,
   "metadata": {
    "collapsed": true
   },
   "outputs": [],
   "source": [
    "import numpy as np # linear algebra\n",
    "import pandas as pd # data processing libary\n",
    "from sklearn import preprocessing, svm, tree, linear_model, metrics #methods \n",
    "#for machine learning tools like preprocessing, models and metrics\n",
    "from sklearn.model_selection import train_test_split #replace cross_validation method\n",
    "import matplotlib.pyplot as plt #plotting library\n",
    "%matplotlib inline"
   ]
  },
  {
   "cell_type": "markdown",
   "metadata": {},
   "source": [
    "## Intro \n",
    "A first impression"
   ]
  },
  {
   "cell_type": "code",
   "execution_count": 3,
   "metadata": {
    "collapsed": false
   },
   "outputs": [
    {
     "data": {
      "text/html": [
       "<div>\n",
       "<table border=\"1\" class=\"dataframe\">\n",
       "  <thead>\n",
       "    <tr style=\"text-align: right;\">\n",
       "      <th></th>\n",
       "      <th>PassengerId</th>\n",
       "      <th>Survived</th>\n",
       "      <th>Pclass</th>\n",
       "      <th>Name</th>\n",
       "      <th>Sex</th>\n",
       "      <th>Age</th>\n",
       "      <th>SibSp</th>\n",
       "      <th>Parch</th>\n",
       "      <th>Ticket</th>\n",
       "      <th>Fare</th>\n",
       "      <th>Cabin</th>\n",
       "      <th>Embarked</th>\n",
       "    </tr>\n",
       "  </thead>\n",
       "  <tbody>\n",
       "    <tr>\n",
       "      <th>0</th>\n",
       "      <td>1</td>\n",
       "      <td>0</td>\n",
       "      <td>3</td>\n",
       "      <td>Braund, Mr. Owen Harris</td>\n",
       "      <td>male</td>\n",
       "      <td>22.0</td>\n",
       "      <td>1</td>\n",
       "      <td>0</td>\n",
       "      <td>A/5 21171</td>\n",
       "      <td>7.2500</td>\n",
       "      <td>NaN</td>\n",
       "      <td>S</td>\n",
       "    </tr>\n",
       "    <tr>\n",
       "      <th>1</th>\n",
       "      <td>2</td>\n",
       "      <td>1</td>\n",
       "      <td>1</td>\n",
       "      <td>Cumings, Mrs. John Bradley (Florence Briggs Th...</td>\n",
       "      <td>female</td>\n",
       "      <td>38.0</td>\n",
       "      <td>1</td>\n",
       "      <td>0</td>\n",
       "      <td>PC 17599</td>\n",
       "      <td>71.2833</td>\n",
       "      <td>C85</td>\n",
       "      <td>C</td>\n",
       "    </tr>\n",
       "    <tr>\n",
       "      <th>2</th>\n",
       "      <td>3</td>\n",
       "      <td>1</td>\n",
       "      <td>3</td>\n",
       "      <td>Heikkinen, Miss. Laina</td>\n",
       "      <td>female</td>\n",
       "      <td>26.0</td>\n",
       "      <td>0</td>\n",
       "      <td>0</td>\n",
       "      <td>STON/O2. 3101282</td>\n",
       "      <td>7.9250</td>\n",
       "      <td>NaN</td>\n",
       "      <td>S</td>\n",
       "    </tr>\n",
       "    <tr>\n",
       "      <th>3</th>\n",
       "      <td>4</td>\n",
       "      <td>1</td>\n",
       "      <td>1</td>\n",
       "      <td>Futrelle, Mrs. Jacques Heath (Lily May Peel)</td>\n",
       "      <td>female</td>\n",
       "      <td>35.0</td>\n",
       "      <td>1</td>\n",
       "      <td>0</td>\n",
       "      <td>113803</td>\n",
       "      <td>53.1000</td>\n",
       "      <td>C123</td>\n",
       "      <td>S</td>\n",
       "    </tr>\n",
       "    <tr>\n",
       "      <th>4</th>\n",
       "      <td>5</td>\n",
       "      <td>0</td>\n",
       "      <td>3</td>\n",
       "      <td>Allen, Mr. William Henry</td>\n",
       "      <td>male</td>\n",
       "      <td>35.0</td>\n",
       "      <td>0</td>\n",
       "      <td>0</td>\n",
       "      <td>373450</td>\n",
       "      <td>8.0500</td>\n",
       "      <td>NaN</td>\n",
       "      <td>S</td>\n",
       "    </tr>\n",
       "  </tbody>\n",
       "</table>\n",
       "</div>"
      ],
      "text/plain": [
       "   PassengerId  Survived  Pclass  \\\n",
       "0            1         0       3   \n",
       "1            2         1       1   \n",
       "2            3         1       3   \n",
       "3            4         1       1   \n",
       "4            5         0       3   \n",
       "\n",
       "                                                Name     Sex   Age  SibSp  \\\n",
       "0                            Braund, Mr. Owen Harris    male  22.0      1   \n",
       "1  Cumings, Mrs. John Bradley (Florence Briggs Th...  female  38.0      1   \n",
       "2                             Heikkinen, Miss. Laina  female  26.0      0   \n",
       "3       Futrelle, Mrs. Jacques Heath (Lily May Peel)  female  35.0      1   \n",
       "4                           Allen, Mr. William Henry    male  35.0      0   \n",
       "\n",
       "   Parch            Ticket     Fare Cabin Embarked  \n",
       "0      0         A/5 21171   7.2500   NaN        S  \n",
       "1      0          PC 17599  71.2833   C85        C  \n",
       "2      0  STON/O2. 3101282   7.9250   NaN        S  \n",
       "3      0            113803  53.1000  C123        S  \n",
       "4      0            373450   8.0500   NaN        S  "
      ]
     },
     "execution_count": 3,
     "metadata": {},
     "output_type": "execute_result"
    }
   ],
   "source": [
    "#first let's read the data and take a look\n",
    "titanic_df = pd.read_csv(\"train.csv\") \n",
    "titanic_df.head()"
   ]
  },
  {
   "cell_type": "markdown",
   "metadata": {},
   "source": [
    "There 12 features including our target feature (Survived), so now check how is builded our dataset\n",
    "\n",
    "Take this as a note for embarkation: C = Cherbourg, Q = Queenstown, S = Southampton"
   ]
  },
  {
   "cell_type": "code",
   "execution_count": 4,
   "metadata": {
    "collapsed": false
   },
   "outputs": [
    {
     "name": "stdout",
     "output_type": "stream",
     "text": [
      "<class 'pandas.core.frame.DataFrame'>\n",
      "RangeIndex: 891 entries, 0 to 890\n",
      "Data columns (total 12 columns):\n",
      "PassengerId    891 non-null int64\n",
      "Survived       891 non-null int64\n",
      "Pclass         891 non-null int64\n",
      "Name           891 non-null object\n",
      "Sex            891 non-null object\n",
      "Age            714 non-null float64\n",
      "SibSp          891 non-null int64\n",
      "Parch          891 non-null int64\n",
      "Ticket         891 non-null object\n",
      "Fare           891 non-null float64\n",
      "Cabin          204 non-null object\n",
      "Embarked       889 non-null object\n",
      "dtypes: float64(2), int64(5), object(5)\n",
      "memory usage: 83.6+ KB\n"
     ]
    }
   ],
   "source": [
    "titanic_df.info()"
   ]
  },
  {
   "cell_type": "markdown",
   "metadata": {},
   "source": [
    "First, there are three columns with missing data, \"Age\", \"Cabin\" and \"Embarked\". This problem is handled on the next step.\n",
    "There are five non-numeric columns, we should take a look and then decide how to transform them. Non-numeric data is troublesome so we will handle it on the next step too."
   ]
  },
  {
   "cell_type": "markdown",
   "metadata": {},
   "source": [
    "### Cleaning and Transforming Data"
   ]
  },
  {
   "cell_type": "markdown",
   "metadata": {},
   "source": [
    "Here the first thing is to handle missing data. There are several ways to deal with them, some of them are removing the record, nullify the value (set to null) or impute values. So we must check first the column and how it can affect the target"
   ]
  },
  {
   "cell_type": "code",
   "execution_count": 5,
   "metadata": {
    "collapsed": false
   },
   "outputs": [
    {
     "name": "stdout",
     "output_type": "stream",
     "text": [
      "Cabin value count: 204 \n",
      "Age value count: 714\n",
      "Embarked value count: 889\n"
     ]
    }
   ],
   "source": [
    "print(\"Cabin value count: %d \" % titanic_df[\"Cabin\"].count())\n",
    "print(\"Age value count: %d\" % titanic_df[\"Age\"].count())\n",
    "print(\"Embarked value count: %d\" % titanic_df[\"Embarked\"].count())"
   ]
  },
  {
   "cell_type": "markdown",
   "metadata": {},
   "source": [
    "Cabin column must be dropped, is amount of missing data is to big that it will affect negatively the model.\n",
    "For embarked, the value of missing data is very slow, so we can try to imput some value.\n",
    "Age contains a lot of missing value, but is not so big as Cabin. We could impute the mean age in the missing ages value, but I will use the simplest way: remove the rows (not column) after filling Embarked missing values"
   ]
  },
  {
   "cell_type": "code",
   "execution_count": 6,
   "metadata": {
    "collapsed": false
   },
   "outputs": [
    {
     "data": {
      "text/plain": [
       "S    644\n",
       "C    168\n",
       "Q     77\n",
       "Name: Embarked, dtype: int64"
      ]
     },
     "execution_count": 6,
     "metadata": {},
     "output_type": "execute_result"
    }
   ],
   "source": [
    "titanic_df.drop(\"Cabin\",axis=1,inplace=True)\n",
    "titanic_df[\"Embarked\"].value_counts()"
   ]
  },
  {
   "cell_type": "markdown",
   "metadata": {},
   "source": [
    "There is a majority class, which is \"S\", so we can input \"S\" for those missing values and proceed to remove the rows with missing values on Age"
   ]
  },
  {
   "cell_type": "code",
   "execution_count": 7,
   "metadata": {
    "collapsed": false
   },
   "outputs": [
    {
     "name": "stdout",
     "output_type": "stream",
     "text": [
      "<class 'pandas.core.frame.DataFrame'>\n",
      "Int64Index: 714 entries, 0 to 890\n",
      "Data columns (total 11 columns):\n",
      "PassengerId    714 non-null int64\n",
      "Survived       714 non-null int64\n",
      "Pclass         714 non-null int64\n",
      "Name           714 non-null object\n",
      "Sex            714 non-null object\n",
      "Age            714 non-null float64\n",
      "SibSp          714 non-null int64\n",
      "Parch          714 non-null int64\n",
      "Ticket         714 non-null object\n",
      "Fare           714 non-null float64\n",
      "Embarked       714 non-null object\n",
      "dtypes: float64(2), int64(5), object(4)\n",
      "memory usage: 66.9+ KB\n"
     ]
    }
   ],
   "source": [
    "titanic_df[\"Embarked\"].fillna(\"S\",inplace = True)\n",
    "titanic_df.dropna(inplace=True)\n",
    "titanic_df.info()"
   ]
  },
  {
   "cell_type": "markdown",
   "metadata": {},
   "source": [
    "Now that all the columns have the same number of records, let's transform the non-numeric data and drop columns to improve our analysis. We can make some suppositions based on the columns info. By example, \"Name\" column have the name of the passengers, and it should be very unique, so it can be 714 different names and that doesn't help to generalize a model. The same goes to \"Ticket\" column.\n",
    "\"PassengerId\" is a unique numerical value, but for our goal (predict survival rate) this information doesn't help. Let's check them."
   ]
  },
  {
   "cell_type": "code",
   "execution_count": 8,
   "metadata": {
    "collapsed": false
   },
   "outputs": [
    {
     "name": "stdout",
     "output_type": "stream",
     "text": [
      "Name value count: 714 \n",
      "Ticket value count: 542 \n",
      "PassengerId value count: 714 \n",
      "Sex value count: 2 \n",
      "Embarked value count: 3 \n"
     ]
    }
   ],
   "source": [
    "print(\"Name value count: %d \" % titanic_df[\"Name\"].value_counts().size)\n",
    "print(\"Ticket value count: %d \" % titanic_df[\"Ticket\"].value_counts().size)\n",
    "print(\"PassengerId value count: %d \" % titanic_df[\"PassengerId\"].value_counts().size)\n",
    "print(\"Sex value count: %d \" % titanic_df[\"Sex\"].value_counts().size)\n",
    "print(\"Embarked value count: %d \" % titanic_df[\"Embarked\"].value_counts().size)"
   ]
  },
  {
   "cell_type": "markdown",
   "metadata": {},
   "source": [
    "As previously said, \"Name\", \"Ticket\" and \"PassengerID\" have very unique values, so we should drop them. For \"Sex\" and \"Embarked\", let's transform them into numeric values to improve our analysis. Let's save the true label for later too."
   ]
  },
  {
   "cell_type": "code",
   "execution_count": 9,
   "metadata": {
    "collapsed": false
   },
   "outputs": [],
   "source": [
    "titanic_df.drop([\"Name\",\"Ticket\",\"PassengerId\"],axis=1, inplace=True)\n",
    "sex_labels= titanic_df[\"Sex\"].unique()\n",
    "embarked_labels = titanic_df[\"Embarked\"].unique()"
   ]
  },
  {
   "cell_type": "code",
   "execution_count": 10,
   "metadata": {
    "collapsed": false
   },
   "outputs": [],
   "source": [
    "le = preprocessing.LabelEncoder()\n",
    "le.fit(titanic_df.Sex.values)\n",
    "titanic_df[\"Sex\"] = le.transform(titanic_df.Sex.values)\n",
    "sex_labels = titanic_df[\"Sex\"].unique()\n",
    "sex_labelsE = le.inverse_transform(sex_labels)\n",
    "le.fit(titanic_df.Embarked.values)\n",
    "titanic_df[\"Embarked\"] = le.transform(titanic_df.Embarked.values)\n",
    "embarked_labels = titanic_df[\"Embarked\"].unique()\n",
    "embarked_labelsE = le.inverse_transform(embarked_labels)"
   ]
  },
  {
   "cell_type": "code",
   "execution_count": 11,
   "metadata": {
    "collapsed": false
   },
   "outputs": [
    {
     "data": {
      "text/html": [
       "<div>\n",
       "<table border=\"1\" class=\"dataframe\">\n",
       "  <thead>\n",
       "    <tr style=\"text-align: right;\">\n",
       "      <th></th>\n",
       "      <th>Survived</th>\n",
       "      <th>Pclass</th>\n",
       "      <th>Sex</th>\n",
       "      <th>Age</th>\n",
       "      <th>SibSp</th>\n",
       "      <th>Parch</th>\n",
       "      <th>Fare</th>\n",
       "      <th>Embarked</th>\n",
       "    </tr>\n",
       "  </thead>\n",
       "  <tbody>\n",
       "    <tr>\n",
       "      <th>0</th>\n",
       "      <td>0</td>\n",
       "      <td>3</td>\n",
       "      <td>1</td>\n",
       "      <td>22.0</td>\n",
       "      <td>1</td>\n",
       "      <td>0</td>\n",
       "      <td>7.2500</td>\n",
       "      <td>2</td>\n",
       "    </tr>\n",
       "    <tr>\n",
       "      <th>1</th>\n",
       "      <td>1</td>\n",
       "      <td>1</td>\n",
       "      <td>0</td>\n",
       "      <td>38.0</td>\n",
       "      <td>1</td>\n",
       "      <td>0</td>\n",
       "      <td>71.2833</td>\n",
       "      <td>0</td>\n",
       "    </tr>\n",
       "    <tr>\n",
       "      <th>2</th>\n",
       "      <td>1</td>\n",
       "      <td>3</td>\n",
       "      <td>0</td>\n",
       "      <td>26.0</td>\n",
       "      <td>0</td>\n",
       "      <td>0</td>\n",
       "      <td>7.9250</td>\n",
       "      <td>2</td>\n",
       "    </tr>\n",
       "    <tr>\n",
       "      <th>3</th>\n",
       "      <td>1</td>\n",
       "      <td>1</td>\n",
       "      <td>0</td>\n",
       "      <td>35.0</td>\n",
       "      <td>1</td>\n",
       "      <td>0</td>\n",
       "      <td>53.1000</td>\n",
       "      <td>2</td>\n",
       "    </tr>\n",
       "    <tr>\n",
       "      <th>4</th>\n",
       "      <td>0</td>\n",
       "      <td>3</td>\n",
       "      <td>1</td>\n",
       "      <td>35.0</td>\n",
       "      <td>0</td>\n",
       "      <td>0</td>\n",
       "      <td>8.0500</td>\n",
       "      <td>2</td>\n",
       "    </tr>\n",
       "  </tbody>\n",
       "</table>\n",
       "</div>"
      ],
      "text/plain": [
       "   Survived  Pclass  Sex   Age  SibSp  Parch     Fare  Embarked\n",
       "0         0       3    1  22.0      1      0   7.2500         2\n",
       "1         1       1    0  38.0      1      0  71.2833         0\n",
       "2         1       3    0  26.0      0      0   7.9250         2\n",
       "3         1       1    0  35.0      1      0  53.1000         2\n",
       "4         0       3    1  35.0      0      0   8.0500         2"
      ]
     },
     "execution_count": 11,
     "metadata": {},
     "output_type": "execute_result"
    }
   ],
   "source": [
    "titanic_df.head()"
   ]
  },
  {
   "cell_type": "markdown",
   "metadata": {},
   "source": [
    "Now let's start the Data Exploration"
   ]
  },
  {
   "cell_type": "markdown",
   "metadata": {},
   "source": [
    "### Data Exploration"
   ]
  },
  {
   "cell_type": "code",
   "execution_count": 12,
   "metadata": {
    "collapsed": false
   },
   "outputs": [
    {
     "data": {
      "text/plain": [
       "<matplotlib.legend.Legend at 0x1810c08b7b8>"
      ]
     },
     "execution_count": 12,
     "metadata": {},
     "output_type": "execute_result"
    },
    {
     "data": {
      "image/png": "[encoded data removed]",
      "text/plain": [
       "<matplotlib.figure.Figure at 0x18110de9668>"
      ]
     },
     "metadata": {},
     "output_type": "display_data"
    }
   ],
   "source": [
    "fig = plt.figure()\n",
    "ax = fig.add_subplot(111)\n",
    "titanic_df.groupby('Pclass').sum()['Survived'].plot.pie(\n",
    "    figsize = (8,8), autopct = '%1.1f%%', startangle = 90, fontsize = 15, explode=(0.05,0,0) )\n",
    "ax.set_ylabel('')\n",
    "ax.set_title('Survival rate', fontsize = 16)\n",
    "ax.legend(labels = titanic_df['Pclass'].unique().sort(), loc = \"best\", title='Class', fontsize=14)\n"
   ]
  },
  {
   "cell_type": "code",
   "execution_count": 13,
   "metadata": {
    "collapsed": false
   },
   "outputs": [
    {
     "data": {
      "text/plain": [
       "[<matplotlib.text.Text at 0x181113a34e0>,\n",
       " <matplotlib.text.Text at 0x181112245c0>,\n",
       " <matplotlib.text.Text at 0x1811126e080>]"
      ]
     },
     "execution_count": 13,
     "metadata": {},
     "output_type": "execute_result"
    },
    {
     "data": {
      "image/png": "[encoded data removed]",
      "text/plain": [
       "<matplotlib.figure.Figure at 0x18110d99978>"
      ]
     },
     "metadata": {},
     "output_type": "display_data"
    }
   ],
   "source": [
    "fig = plt.figure()\n",
    "ax = fig.add_subplot(111)\n",
    "ax.set_ylabel(\"Survival rate\")\n",
    "titanic_df.groupby(\"Pclass\").mean()[\"Survived\"].plot.bar()\n",
    "ax.set_xticklabels(labels = ax.get_xticklabels(),rotation=0)"
   ]
  },
  {
   "cell_type": "markdown",
   "metadata": {
    "collapsed": true
   },
   "source": [
    "We can see that Passenger class is a important feature for forecast survival rate. In average more passenger of the 1° class survived and of the survivors distribution they were a majority class."
   ]
  },
  {
   "cell_type": "code",
   "execution_count": 14,
   "metadata": {
    "collapsed": false
   },
   "outputs": [
    {
     "data": {
      "text/plain": [
       "[<matplotlib.text.Text at 0x18110dbd208>,\n",
       " <matplotlib.text.Text at 0x181112cd128>]"
      ]
     },
     "execution_count": 14,
     "metadata": {},
     "output_type": "execute_result"
    },
    {
     "data": {
      "image/png": "[encoded data removed]",
      "text/plain": [
       "<matplotlib.figure.Figure at 0x18111284080>"
      ]
     },
     "metadata": {},
     "output_type": "display_data"
    }
   ],
   "source": [
    "fig = plt.figure()\n",
    "sorted_labes = [x for (y,x) in sorted(zip(sex_labels,sex_labelsE))]\n",
    "ax = fig.add_subplot(111)\n",
    "ax.set_ylabel(\"Survival rate\")\n",
    "titanic_df.groupby(\"Sex\").mean()[\"Survived\"].plot.bar()\n",
    "ax.set_xticklabels(labels = sorted_labes,rotation=20)"
   ]
  },
  {
   "cell_type": "markdown",
   "metadata": {
    "collapsed": true
   },
   "source": [
    "Female passengers had a greater chance to survive than male passengers (75% vs 20%), let's see plots with the relation between PClass and Sex for male and female for all the classes"
   ]
  },
  {
   "cell_type": "code",
   "execution_count": 15,
   "metadata": {
    "collapsed": false
   },
   "outputs": [],
   "source": [
    "index_name=titanic_df.groupby([\"Pclass\",\"Sex\"]).mean()[\"Survived\"].index.names\n",
    "index_level=titanic_df.groupby([\"Pclass\",\"Sex\"]).mean()[\"Survived\"].index.levels\n",
    "index_ = zip(index_name,index_level)"
   ]
  },
  {
   "cell_type": "code",
   "execution_count": 16,
   "metadata": {
    "collapsed": false
   },
   "outputs": [
    {
     "data": {
      "image/png": "[encoded data removed]",
      "text/plain": [
       "<matplotlib.figure.Figure at 0x18111326be0>"
      ]
     },
     "metadata": {},
     "output_type": "display_data"
    }
   ],
   "source": [
    "fig, axes = plt.subplots(nrows=1, ncols=3)\n",
    "titanic_df.groupby([\"Pclass\",\"Sex\"]).mean()[\"Survived\"][1].plot.bar(ax=axes[0] )\n",
    "titanic_df.groupby([\"Pclass\",\"Sex\"]).mean()[\"Survived\"][2].plot.bar(ax=axes[1] )\n",
    "titanic_df.groupby([\"Pclass\",\"Sex\"]).mean()[\"Survived\"][3].plot.bar(ax=axes[2] )\n",
    "axes[0].set_title('Class 1')\n",
    "axes[0].set_xticklabels(labels = sorted_labes,rotation=20)\n",
    "axes[0].set_yticks(np.arange(0.0,1.1,0.1))\n",
    "axes[1].set_title('Class 2')\n",
    "axes[1].set_xticklabels(labels = sorted_labes,rotation=20)\n",
    "axes[1].set_yticks(np.arange(0.0,1.1,0.1))\n",
    "axes[2].set_title('Class 3')\n",
    "axes[2].set_xticklabels(labels = sorted_labes,rotation=20)\n",
    "axes[2].set_yticks(np.arange(0.0,1.1,0.1))\n",
    "fig.tight_layout()"
   ]
  },
  {
   "cell_type": "markdown",
   "metadata": {},
   "source": [
    "Now, let's see about ranges of ages grouped by 10 units"
   ]
  },
  {
   "cell_type": "code",
   "execution_count": 17,
   "metadata": {
    "collapsed": true
   },
   "outputs": [],
   "source": [
    "years_range = np.arange(0,90,10)"
   ]
  },
  {
   "cell_type": "code",
   "execution_count": 18,
   "metadata": {
    "collapsed": false
   },
   "outputs": [
    {
     "data": {
      "image/png": "[encoded data removed]",
      "text/plain": [
       "<matplotlib.figure.Figure at 0x1811154feb8>"
      ]
     },
     "metadata": {},
     "output_type": "display_data"
    }
   ],
   "source": [
    "fig, axes = plt.subplots(nrows=3, ncols=2, figsize=(8,12))\n",
    "titanic_df.groupby(by=[\"Pclass\",\"Sex\",pd.cut(titanic_df[\"Age\"],years_range)]).mean()[\"Survived\"][1,0].plot.bar(ax=axes[0,0], title = (\"Women Class 1\") )\n",
    "titanic_df.groupby(by=[\"Pclass\",\"Sex\",pd.cut(titanic_df[\"Age\"],years_range)]).mean()[\"Survived\"][1,1].plot.bar(ax=axes[0,1], title = (\"Men Class 1\") )\n",
    "titanic_df.groupby(by=[\"Pclass\",\"Sex\",pd.cut(titanic_df[\"Age\"],years_range)]).mean()[\"Survived\"][2,0].plot.bar(ax=axes[1,0], title = (\"Women Class 2\") )\n",
    "titanic_df.groupby(by=[\"Pclass\",\"Sex\",pd.cut(titanic_df[\"Age\"],years_range)]).mean()[\"Survived\"][2,1].plot.bar(ax=axes[1,1], title = (\"Men Class 2\") )\n",
    "titanic_df.groupby(by=[\"Pclass\",\"Sex\",pd.cut(titanic_df[\"Age\"],years_range)]).mean()[\"Survived\"][3,0].plot.bar(ax=axes[2,0], title = (\"Women Class 3\") )\n",
    "titanic_df.groupby(by=[\"Pclass\",\"Sex\",pd.cut(titanic_df[\"Age\"],years_range)]).mean()[\"Survived\"][3,1].plot.bar(ax=axes[2,1], title = (\"Men Class 3\") )\n",
    "axes[0,0].set_yticks(np.arange(0.0,1.1,0.1))\n",
    "axes[0,1].set_yticks(np.arange(0.0,1.1,0.1))\n",
    "axes[1,0].set_yticks(np.arange(0.0,1.1,0.1))\n",
    "axes[1,1].set_yticks(np.arange(0.0,1.1,0.1))\n",
    "axes[2,0].set_yticks(np.arange(0.0,1.1,0.1))\n",
    "axes[2,1].set_yticks(np.arange(0.0,1.1,0.1))\n",
    "fig.tight_layout()"
   ]
  },
  {
   "cell_type": "markdown",
   "metadata": {},
   "source": [
    "We can see some paterns like  a female passenger had bigger survival rate in all the clases than male passengers. Also we see that children and older people had the same pattern.\n",
    "Now let's check the others features"
   ]
  },
  {
   "cell_type": "code",
   "execution_count": 19,
   "metadata": {
    "collapsed": false
   },
   "outputs": [
    {
     "data": {
      "image/png": "[encoded data removed]",
      "text/plain": [
       "<matplotlib.figure.Figure at 0x1811154f668>"
      ]
     },
     "metadata": {},
     "output_type": "display_data"
    }
   ],
   "source": [
    "fig, axes = plt.subplots(nrows=1, ncols=3)\n",
    "sorted_labes = [x for (y,x) in sorted(zip(embarked_labels,embarked_labelsE))]\n",
    "titanic_df.groupby([\"Pclass\",\"Embarked\"]).mean()[\"Survived\"][1].plot.bar(ax=axes[0] )\n",
    "titanic_df.groupby([\"Pclass\",\"Embarked\"]).mean()[\"Survived\"][2].plot.bar(ax=axes[1] )\n",
    "titanic_df.groupby([\"Pclass\",\"Embarked\"]).mean()[\"Survived\"][3].plot.bar(ax=axes[2] )\n",
    "axes[0].set_title('Class 1')\n",
    "axes[0].set_yticks(np.arange(0.0,1.1,0.1))\n",
    "axes[0].set_xticklabels(labels = sorted_labes,rotation=20)\n",
    "axes[1].set_title('Class 2')\n",
    "axes[1].set_yticks(np.arange(0.0,1.1,0.1))\n",
    "axes[1].set_xticklabels(labels = sorted_labes,rotation=20)\n",
    "axes[2].set_title('Class 3')\n",
    "axes[2].set_yticks(np.arange(0.0,1.1,0.1))\n",
    "axes[2].set_xticklabels(labels = sorted_labes,rotation=20)\n",
    "fig.tight_layout()"
   ]
  },
  {
   "cell_type": "markdown",
   "metadata": {},
   "source": [
    "There is a relation between the embarked port and the survival rate, but is not as bigger like Age and Sex"
   ]
  },
  {
   "cell_type": "code",
   "execution_count": 20,
   "metadata": {
    "collapsed": false
   },
   "outputs": [
    {
     "data": {
      "text/plain": [
       "<matplotlib.axes._subplots.AxesSubplot at 0x181113a0518>"
      ]
     },
     "execution_count": 20,
     "metadata": {},
     "output_type": "execute_result"
    },
    {
     "data": {
      "image/png": "[encoded data removed]",
      "text/plain": [
       "<matplotlib.figure.Figure at 0x181112b63c8>"
      ]
     },
     "metadata": {},
     "output_type": "display_data"
    }
   ],
   "source": [
    "titanic_df.groupby(\"SibSp\").mean()[\"Survived\"].plot.bar()"
   ]
  },
  {
   "cell_type": "code",
   "execution_count": 21,
   "metadata": {
    "collapsed": false
   },
   "outputs": [
    {
     "data": {
      "text/plain": [
       "<matplotlib.axes._subplots.AxesSubplot at 0x18111326cc0>"
      ]
     },
     "execution_count": 21,
     "metadata": {},
     "output_type": "execute_result"
    },
    {
     "data": {
      "image/png": "[encoded data removed]",
      "text/plain": [
       "<matplotlib.figure.Figure at 0x181119a3dd8>"
      ]
     },
     "metadata": {},
     "output_type": "display_data"
    }
   ],
   "source": [
    "titanic_df.groupby(\"Parch\").mean()[\"Survived\"].plot.bar()"
   ]
  },
  {
   "cell_type": "code",
   "execution_count": 22,
   "metadata": {
    "collapsed": false
   },
   "outputs": [
    {
     "data": {
      "text/plain": [
       "<matplotlib.axes._subplots.AxesSubplot at 0x1811199c780>"
      ]
     },
     "execution_count": 22,
     "metadata": {},
     "output_type": "execute_result"
    },
    {
     "data": {
      "image/png": "[encoded data removed]",
      "text/plain": [
       "<matplotlib.figure.Figure at 0x18111c98550>"
      ]
     },
     "metadata": {},
     "output_type": "display_data"
    }
   ],
   "source": [
    "fare_ranges = np.arange(0,max(titanic_df.Fare)+1,max(titanic_df.Fare)/10)\n",
    "titanic_df.groupby(pd.cut(titanic_df[\"Fare\"],fare_ranges)).mean()[\"Survived\"].plot.bar()"
   ]
  },
  {
   "cell_type": "markdown",
   "metadata": {},
   "source": [
    "Between SibSp, Parch, Fare there is no important correlation."
   ]
  },
  {
   "cell_type": "markdown",
   "metadata": {},
   "source": [
    "Just to be sure, I will run a Random Forest Assesing Feature algorithm (A Feature Selection Algorithm) on the transformed features to asses if my chosed features "
   ]
  },
  {
   "cell_type": "code",
   "execution_count": 27,
   "metadata": {
    "collapsed": true
   },
   "outputs": [],
   "source": [
    "titanic_features = titanic_df.drop(\"Survived\", axis=1)\n",
    "feat_labels = titanic_df.columns[1:]"
   ]
  },
  {
   "cell_type": "code",
   "execution_count": 28,
   "metadata": {
    "collapsed": false
   },
   "outputs": [
    {
     "name": "stdout",
     "output_type": "stream",
     "text": [
      " 1) Pclass                         0.285275\n",
      " 2) Sex                            0.257921\n",
      " 3) Age                            0.248526\n",
      " 4) SibSp                          0.095265\n",
      " 5) Parch                          0.046965\n",
      " 6) Fare                           0.038138\n",
      " 7) Embarked                       0.027911\n"
     ]
    }
   ],
   "source": [
    "from sklearn import ensemble\n",
    "forest = ensemble.RandomForestClassifier(n_estimators=10000, random_state=0, n_jobs=-1)\n",
    "forest.fit(titanic_features,titanic_df[\"Survived\"])\n",
    "importances = forest.feature_importances_\n",
    "indices= np.argsort(importances)[::-1]\n",
    "for f in range(x_training.shape[1]):\n",
    "    print(\"%2d) %-*s %f\" % (f+1, 30, feat_labels[f], importances[indices[f]]))"
   ]
  },
  {
   "cell_type": "markdown",
   "metadata": {},
   "source": [
    "As the data exploration show, the most influential features are Pclass, Sex and Age; the other ones have a little correlation. Let's check also an option with only the major features"
   ]
  },
  {
   "cell_type": "code",
   "execution_count": 42,
   "metadata": {
    "collapsed": false
   },
   "outputs": [
    {
     "data": {
      "text/html": [
       "<div>\n",
       "<table border=\"1\" class=\"dataframe\">\n",
       "  <thead>\n",
       "    <tr style=\"text-align: right;\">\n",
       "      <th></th>\n",
       "      <th>Pclass</th>\n",
       "      <th>Sex</th>\n",
       "      <th>Age</th>\n",
       "    </tr>\n",
       "  </thead>\n",
       "  <tbody>\n",
       "    <tr>\n",
       "      <th>0</th>\n",
       "      <td>3</td>\n",
       "      <td>1</td>\n",
       "      <td>22.0</td>\n",
       "    </tr>\n",
       "    <tr>\n",
       "      <th>1</th>\n",
       "      <td>1</td>\n",
       "      <td>0</td>\n",
       "      <td>38.0</td>\n",
       "    </tr>\n",
       "    <tr>\n",
       "      <th>2</th>\n",
       "      <td>3</td>\n",
       "      <td>0</td>\n",
       "      <td>26.0</td>\n",
       "    </tr>\n",
       "    <tr>\n",
       "      <th>3</th>\n",
       "      <td>1</td>\n",
       "      <td>0</td>\n",
       "      <td>35.0</td>\n",
       "    </tr>\n",
       "    <tr>\n",
       "      <th>4</th>\n",
       "      <td>3</td>\n",
       "      <td>1</td>\n",
       "      <td>35.0</td>\n",
       "    </tr>\n",
       "  </tbody>\n",
       "</table>\n",
       "</div>"
      ],
      "text/plain": [
       "   Pclass  Sex   Age\n",
       "0       3    1  22.0\n",
       "1       1    0  38.0\n",
       "2       3    0  26.0\n",
       "3       1    0  35.0\n",
       "4       3    1  35.0"
      ]
     },
     "execution_count": 42,
     "metadata": {},
     "output_type": "execute_result"
    }
   ],
   "source": [
    "titanic_3features = titanic_features[titanic_features.columns[:3]]\n",
    "titanic_3features.head()"
   ]
  },
  {
   "cell_type": "markdown",
   "metadata": {},
   "source": [
    "## Starting with Machine Learning Models"
   ]
  },
  {
   "cell_type": "markdown",
   "metadata": {},
   "source": [
    "We have to split the Data into two subsets: training and test data.\n",
    "This subsets will allow us to measure the accuracy and precision of the models to chose the best one to use"
   ]
  },
  {
   "cell_type": "code",
   "execution_count": 25,
   "metadata": {
    "collapsed": true
   },
   "outputs": [],
   "source": [
    "from sklearn import model_selection\n",
    "from sklearn import preprocessing, metrics"
   ]
  },
  {
   "cell_type": "code",
   "execution_count": 53,
   "metadata": {
    "collapsed": false
   },
   "outputs": [],
   "source": [
    "#let's standarize the feature value to improve the prediction\n",
    "sc = preprocessing.StandardScaler()\n",
    "#------ for all features\n",
    "sc.fit(titanic_features)\n",
    "titanic_features_std = sc.transform(titanic_features)\n",
    "#------ only 3 features\n",
    "sc.fit(titanic_3features)\n",
    "titanic_3features_std = sc.transform(titanic_3features)"
   ]
  },
  {
   "cell_type": "code",
   "execution_count": 55,
   "metadata": {
    "collapsed": true
   },
   "outputs": [],
   "source": [
    "#let's split the data into training and test subsets\n",
    "#-------- for all features\n",
    "x_train, x_test, y_train, y_test =  model_selection.train_test_split(\n",
    "    titanic_features_std, titanic_df.Survived, test_size = 0.3, random_state = 0)\n",
    "#-------- only 3 features\n",
    "x_3f_train, x_3f_test, y_3f_train, y_3f_test = model_selection.train_test_split(\n",
    "    titanic_3features_std, titanic_df.Survived, test_size = 0.3, random_state = 0)"
   ]
  },
  {
   "cell_type": "markdown",
   "metadata": {},
   "source": [
    "### Decision Trees"
   ]
  },
  {
   "cell_type": "markdown",
   "metadata": {},
   "source": [
    "Decision Trees are of the most intuitive algorithms, so I will start with it.\n",
    "Remember, the first thing is to train the model and test it with the training data."
   ]
  },
  {
   "cell_type": "code",
   "execution_count": 60,
   "metadata": {
    "collapsed": false
   },
   "outputs": [],
   "source": [
    "from sklearn.tree import DecisionTreeClassifier\n",
    "cm_tree = DecisionTreeClassifier(criterion='entropy',max_depth=3, random_state=0)"
   ]
  },
  {
   "cell_type": "markdown",
   "metadata": {},
   "source": [
    "#### All features"
   ]
  },
  {
   "cell_type": "code",
   "execution_count": 61,
   "metadata": {
    "collapsed": false
   },
   "outputs": [
    {
     "data": {
      "text/plain": [
       "DecisionTreeClassifier(class_weight=None, criterion='entropy', max_depth=3,\n",
       "            max_features=None, max_leaf_nodes=None,\n",
       "            min_impurity_split=1e-07, min_samples_leaf=1,\n",
       "            min_samples_split=2, min_weight_fraction_leaf=0.0,\n",
       "            presort=False, random_state=0, splitter='best')"
      ]
     },
     "execution_count": 61,
     "metadata": {},
     "output_type": "execute_result"
    }
   ],
   "source": [
    "cm_tree.fit(x_train,y_train)"
   ]
  },
  {
   "cell_type": "code",
   "execution_count": 62,
   "metadata": {
    "collapsed": false
   },
   "outputs": [
    {
     "name": "stdout",
     "output_type": "stream",
     "text": [
      "The accuracy is: 0.809302\n",
      "The precision is: 0.802469\n"
     ]
    }
   ],
   "source": [
    "y_predict = cm_tree.predict(x_test)\n",
    "print(\"The accuracy is: %2f\" % metrics.accuracy_score(y_test,y_predict))\n",
    "print(\"The precision is: %2f\" % metrics.precision_score(y_test,y_predict))"
   ]
  },
  {
   "cell_type": "markdown",
   "metadata": {},
   "source": [
    "#### 3 major features"
   ]
  },
  {
   "cell_type": "code",
   "execution_count": 63,
   "metadata": {
    "collapsed": false
   },
   "outputs": [
    {
     "data": {
      "text/plain": [
       "DecisionTreeClassifier(class_weight=None, criterion='entropy', max_depth=3,\n",
       "            max_features=None, max_leaf_nodes=None,\n",
       "            min_impurity_split=1e-07, min_samples_leaf=1,\n",
       "            min_samples_split=2, min_weight_fraction_leaf=0.0,\n",
       "            presort=False, random_state=0, splitter='best')"
      ]
     },
     "execution_count": 63,
     "metadata": {},
     "output_type": "execute_result"
    }
   ],
   "source": [
    "cm_tree.fit(x_3f_train,y_3f_train)"
   ]
  },
  {
   "cell_type": "code",
   "execution_count": 64,
   "metadata": {
    "collapsed": false
   },
   "outputs": [
    {
     "name": "stdout",
     "output_type": "stream",
     "text": [
      "The accuracy is: 0.795349\n",
      "The precision is: 0.925926\n"
     ]
    }
   ],
   "source": [
    "y_3f_predict = cm_tree.predict(x_3f_test)\n",
    "print(\"The accuracy is: %2f\" % metrics.accuracy_score(y_3f_test,y_3f_predict))\n",
    "print(\"The precision is: %2f\" % metrics.precision_score(y_3f_test,y_3f_predict))"
   ]
  },
  {
   "cell_type": "markdown",
   "metadata": {},
   "source": [
    "### Logistic Regression"
   ]
  },
  {
   "cell_type": "markdown",
   "metadata": {},
   "source": [
    "Of the most classic ML algoritmhs for Classification Task"
   ]
  },
  {
   "cell_type": "code",
   "execution_count": 65,
   "metadata": {
    "collapsed": true
   },
   "outputs": [],
   "source": [
    "from sklearn.linear_model import LogisticRegression\n",
    "cm_lr = LogisticRegression(C=1000.0, random_state = 0)"
   ]
  },
  {
   "cell_type": "markdown",
   "metadata": {},
   "source": [
    "#### all Features"
   ]
  },
  {
   "cell_type": "code",
   "execution_count": 69,
   "metadata": {
    "collapsed": false
   },
   "outputs": [
    {
     "data": {
      "text/plain": [
       "LogisticRegression(C=1000.0, class_weight=None, dual=False,\n",
       "          fit_intercept=True, intercept_scaling=1, max_iter=100,\n",
       "          multi_class='ovr', n_jobs=1, penalty='l2', random_state=0,\n",
       "          solver='liblinear', tol=0.0001, verbose=0, warm_start=False)"
      ]
     },
     "execution_count": 69,
     "metadata": {},
     "output_type": "execute_result"
    }
   ],
   "source": [
    "cm_lr.fit(x_train,y_train)"
   ]
  },
  {
   "cell_type": "code",
   "execution_count": 68,
   "metadata": {
    "collapsed": false
   },
   "outputs": [
    {
     "name": "stdout",
     "output_type": "stream",
     "text": [
      "The accuracy is: 0.818605\n",
      "The precision is: 0.800000\n"
     ]
    }
   ],
   "source": [
    "y_predict = cm_lr.predict(x_test)\n",
    "print(\"The accuracy is: %2f\" % metrics.accuracy_score(y_test,y_predict))\n",
    "print(\"The precision is: %2f\" % metrics.precision_score(y_test,y_predict))"
   ]
  },
  {
   "cell_type": "markdown",
   "metadata": {},
   "source": [
    "#### Only 3 features"
   ]
  },
  {
   "cell_type": "code",
   "execution_count": 70,
   "metadata": {
    "collapsed": false
   },
   "outputs": [
    {
     "data": {
      "text/plain": [
       "LogisticRegression(C=1000.0, class_weight=None, dual=False,\n",
       "          fit_intercept=True, intercept_scaling=1, max_iter=100,\n",
       "          multi_class='ovr', n_jobs=1, penalty='l2', random_state=0,\n",
       "          solver='liblinear', tol=0.0001, verbose=0, warm_start=False)"
      ]
     },
     "execution_count": 70,
     "metadata": {},
     "output_type": "execute_result"
    }
   ],
   "source": [
    "cm_lr.fit(x_3f_train,y_3f_train)"
   ]
  },
  {
   "cell_type": "code",
   "execution_count": 71,
   "metadata": {
    "collapsed": false
   },
   "outputs": [
    {
     "name": "stdout",
     "output_type": "stream",
     "text": [
      "The accuracy is: 0.832558\n",
      "The precision is: 0.821429\n"
     ]
    }
   ],
   "source": [
    "y_predict = cm_lr.predict(x_3f_test)\n",
    "print(\"The accuracy is: %2f\" % metrics.accuracy_score(y_test,y_predict))\n",
    "print(\"The precision is: %2f\" % metrics.precision_score(y_test,y_predict))"
   ]
  },
  {
   "cell_type": "markdown",
   "metadata": {},
   "source": [
    "### SVM - Support Vector Classifier"
   ]
  },
  {
   "cell_type": "markdown",
   "metadata": {},
   "source": [
    "This Algorithm is very popular in the Classification Task due the performance and the heuristic approach (the algorithm doesn't depend of random values)"
   ]
  },
  {
   "cell_type": "code",
   "execution_count": 92,
   "metadata": {
    "collapsed": true
   },
   "outputs": [],
   "source": [
    "from sklearn.svm import SVC\n",
    "svm = SVC(kernel = 'linear', C = 10.0, random_state = 0)"
   ]
  },
  {
   "cell_type": "markdown",
   "metadata": {},
   "source": [
    "#### All Features"
   ]
  },
  {
   "cell_type": "code",
   "execution_count": 93,
   "metadata": {
    "collapsed": false
   },
   "outputs": [
    {
     "data": {
      "text/plain": [
       "SVC(C=10.0, cache_size=200, class_weight=None, coef0=0.0,\n",
       "  decision_function_shape=None, degree=3, gamma='auto', kernel='linear',\n",
       "  max_iter=-1, probability=False, random_state=0, shrinking=True,\n",
       "  tol=0.001, verbose=False)"
      ]
     },
     "execution_count": 93,
     "metadata": {},
     "output_type": "execute_result"
    }
   ],
   "source": [
    "svm.fit(x_train, y_train)"
   ]
  },
  {
   "cell_type": "code",
   "execution_count": 94,
   "metadata": {
    "collapsed": false
   },
   "outputs": [
    {
     "name": "stdout",
     "output_type": "stream",
     "text": [
      "The accuracy is: 0.790698\n",
      "The precision is: 0.784810\n"
     ]
    }
   ],
   "source": [
    "y_predict = svm.predict(x_test)\n",
    "print(\"The accuracy is: %2f\" % metrics.accuracy_score(y_test,y_predict))\n",
    "print(\"The precision is: %2f\" % metrics.precision_score(y_test,y_predict))"
   ]
  },
  {
   "cell_type": "markdown",
   "metadata": {},
   "source": [
    "#### Only 3 Features"
   ]
  },
  {
   "cell_type": "code",
   "execution_count": 95,
   "metadata": {
    "collapsed": false
   },
   "outputs": [
    {
     "data": {
      "text/plain": [
       "SVC(C=10.0, cache_size=200, class_weight=None, coef0=0.0,\n",
       "  decision_function_shape=None, degree=3, gamma='auto', kernel='linear',\n",
       "  max_iter=-1, probability=False, random_state=0, shrinking=True,\n",
       "  tol=0.001, verbose=False)"
      ]
     },
     "execution_count": 95,
     "metadata": {},
     "output_type": "execute_result"
    }
   ],
   "source": [
    "svm.fit(x_3f_train, y_3f_train)"
   ]
  },
  {
   "cell_type": "code",
   "execution_count": 96,
   "metadata": {
    "collapsed": false
   },
   "outputs": [
    {
     "name": "stdout",
     "output_type": "stream",
     "text": [
      "The accuracy is: 0.790698\n",
      "The precision is: 0.784810\n"
     ]
    }
   ],
   "source": [
    "y_predict = svm.predict(x_3f_test)\n",
    "print(\"The accuracy is: %2f\" % metrics.accuracy_score(y_test,y_predict))\n",
    "print(\"The precision is: %2f\" % metrics.precision_score(y_test,y_predict))"
   ]
  },
  {
   "cell_type": "markdown",
   "metadata": {},
   "source": [
    "## Conclusion"
   ]
  },
  {
   "cell_type": "markdown",
   "metadata": {},
   "source": [
    "The Data Exploration and Cleaning phases wheren't to deep, but it gave us the enough information to know which columns had to be dropped before creating the ML model and of the remainig features which where the Most Influential ones. \n",
    "On the ML phase the three models are from the simplest one to learn and had a good performance. I can't say that one model is better than other because each one had good points and bad point in different dataset types, and for this one they had very low differneces. Altough, I will use the Logistic Regression to make my submit for this dataset"
   ]
  },
  {
   "cell_type": "markdown",
   "metadata": {},
   "source": [
    "## Submission test"
   ]
  },
  {
   "cell_type": "code",
   "execution_count": null,
   "metadata": {
    "collapsed": true
   },
   "outputs": [],
   "source": [
    "test_data = pd.read_csv(\"test\")"
   ]
  }
 ],
 "metadata": {
  "kernelspec": {
   "display_name": "Python 3",
   "language": "python",
   "name": "python3"
  },
  "language_info": {
   "codemirror_mode": {
    "name": "ipython",
    "version": 3
   },
   "file_extension": ".py",
   "mimetype": "text/x-python",
   "name": "python",
   "nbconvert_exporter": "python",
   "pygments_lexer": "ipython3",
   "version": "3.6.0"
  }
 },
 "nbformat": 4,
 "nbformat_minor": 2
}
